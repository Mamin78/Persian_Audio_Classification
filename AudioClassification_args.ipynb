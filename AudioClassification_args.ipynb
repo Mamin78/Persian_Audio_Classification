{
  "nbformat": 4,
  "nbformat_minor": 0,
  "metadata": {
    "colab": {
      "provenance": [],
      "collapsed_sections": [
        "YHs6nr1vpUOL",
        "0habm5iF5_uq",
        "n9ZGb6rr50zT",
        "spRHF7JD5wAO",
        "kwoThIoEosx9",
        "UO1Abt1eoxsw"
      ]
    },
    "kernelspec": {
      "name": "python3",
      "display_name": "Python 3"
    },
    "language_info": {
      "name": "python"
    },
    "gpuClass": "standard"
  },
  "cells": [
    {
      "cell_type": "markdown",
      "source": [
        "# **Mount and load the data**"
      ],
      "metadata": {
        "id": "YHs6nr1vpUOL"
      }
    },
    {
      "cell_type": "code",
      "source": [
        "from google.colab import drive\n",
        "drive.mount('/content/drive')"
      ],
      "metadata": {
        "colab": {
          "base_uri": "https://localhost:8080/"
        },
        "id": "WVcTmnTQLyut",
        "outputId": "f0a43871-a433-40d6-e42a-53fc32873556"
      },
      "execution_count": 2,
      "outputs": [
        {
          "output_type": "stream",
          "name": "stdout",
          "text": [
            "Drive already mounted at /content/drive; to attempt to forcibly remount, call drive.mount(\"/content/drive\", force_remount=True).\n"
          ]
        }
      ]
    },
    {
      "cell_type": "code",
      "source": [
        "!unzip '/content/drive/MyDrive/Datasets/PartAI_Task/cleaned_12words_audioClassification.zip' -d \"/content/cleaned\""
      ],
      "metadata": {
        "id": "YNmFDCS2MKqo"
      },
      "execution_count": null,
      "outputs": []
    },
    {
      "cell_type": "code",
      "source": [
        "from pydrive.auth import GoogleAuth\n",
        "from google.colab import drive\n",
        "from pydrive.drive import GoogleDrive\n",
        "from google.colab import auth\n",
        "from oauth2client.client import GoogleCredentials\n",
        "import os"
      ],
      "metadata": {
        "id": "-IZWQ-u7vOt8"
      },
      "execution_count": 2,
      "outputs": []
    },
    {
      "cell_type": "code",
      "source": [
        "auth.authenticate_user()\n",
        "gauth = GoogleAuth()\n",
        "gauth.credentials = GoogleCredentials.get_application_default()\n",
        "drive = GoogleDrive(gauth)"
      ],
      "metadata": {
        "id": "5fKFWOawvOhw"
      },
      "execution_count": 3,
      "outputs": []
    },
    {
      "cell_type": "markdown",
      "source": [
        "## **Loading CSV files**"
      ],
      "metadata": {
        "id": "0habm5iF5_uq"
      }
    },
    {
      "cell_type": "code",
      "source": [
        "download = drive.CreateFile({'id': '1ElWRwGvEuCMKB0mlqLQlISPy6GweFTyu'})\n",
        "download.GetContentFile('metadata.csv')"
      ],
      "metadata": {
        "id": "kUeYguW2xN4o"
      },
      "execution_count": 4,
      "outputs": []
    },
    {
      "cell_type": "code",
      "source": [
        "os.mkdir('/content/splited/')"
      ],
      "metadata": {
        "id": "DD_gt-c8hhMy"
      },
      "execution_count": 7,
      "outputs": []
    },
    {
      "cell_type": "code",
      "source": [
        "download = drive.CreateFile({'id': '1-MHF6v9Q9e1-vG1KgFQDtKdu2n8aaev_'})\n",
        "download.GetContentFile('/content/splited/x_train.csv')\n",
        "\n",
        "download = drive.CreateFile({'id': '1-M8dw-1QiWW-pbR48Nrc3HEltFDIsnTS'})\n",
        "download.GetContentFile('/content/splited/x_test.csv')\n",
        "\n",
        "download = drive.CreateFile({'id': '1-EafBx-LsyKVnYJcKqSOcrCEYWlEVasE'})\n",
        "download.GetContentFile('/content/splited/y_train.csv')\n",
        "\n",
        "download = drive.CreateFile({'id': '1-3kGQQsiMEZ_k6f0o3yhEK3zxWvb3uQb'})\n",
        "download.GetContentFile('/content/splited/y_test.csv')\n",
        "\n",
        "download = drive.CreateFile({'id': '1O0J-8DPeY2NT3uCtWr3_GxKqiClYxPjW'})\n",
        "download.GetContentFile('/content/splited/encoder.bin')\n",
        "\n",
        "download = drive.CreateFile({'id': '1-OVAv3Z_U_PU_FDqznI5CGGYiIuG4gER'})\n",
        "download.GetContentFile('/content/splited/std_scaler.bin')"
      ],
      "metadata": {
        "id": "yejQZ4t-3E12"
      },
      "execution_count": 9,
      "outputs": []
    },
    {
      "cell_type": "markdown",
      "source": [
        "## **Loading the python codes**"
      ],
      "metadata": {
        "id": "n9ZGb6rr50zT"
      }
    },
    {
      "cell_type": "code",
      "source": [
        "download = drive.CreateFile({'id': '1oHTiMeZlqHr0Hi-xMzK8xFN0ZXbIqdm-'})\n",
        "download.GetContentFile('data.py')\n",
        "\n",
        "download = drive.CreateFile({'id': '13uTxSQzLR7NAuDSwbv5ppD3bl58sD02O'})\n",
        "download.GetContentFile('DataProcessor.py')\n",
        "\n",
        "download = drive.CreateFile({'id': '1eINIYiC7lDb4OxHRQYnPqM_NuuhpBKl1'})\n",
        "download.GetContentFile('main.py')\n",
        "\n",
        "download = drive.CreateFile({'id': '1j2b1cok1LAgrRNdAWdzFI6jlUrI0JwJX'})\n",
        "download.GetContentFile('Recognizer.py')\n",
        "\n",
        "download = drive.CreateFile({'id': '1wICDOWod5BOhZ88uqC0xRbZl1iMK4kVr'})\n",
        "download.GetContentFile('test.py')"
      ],
      "metadata": {
        "id": "08-ZsLvmxPKd"
      },
      "execution_count": 5,
      "outputs": []
    },
    {
      "cell_type": "markdown",
      "source": [
        "## **Loading best weights**"
      ],
      "metadata": {
        "id": "spRHF7JD5wAO"
      }
    },
    {
      "cell_type": "code",
      "source": [
        "os.mkdir('/content/best')"
      ],
      "metadata": {
        "id": "UKd_UuFd5BBI"
      },
      "execution_count": 11,
      "outputs": []
    },
    {
      "cell_type": "code",
      "source": [
        "download = drive.CreateFile({'id': '1-cS2fN0DZvMjgU00SpX2jA282QfW61oN'})\n",
        "download.GetContentFile('/content/best/checkpoint')\n",
        "\n",
        "download = drive.CreateFile({'id': '1-aQY9K4cPgeu1IzbXPxWk-dqV141yeh0'})\n",
        "download.GetContentFile('/content/best/checkpoint_best.pth.data-00000-of-00001')\n",
        "\n",
        "download = drive.CreateFile({'id': '1-hadfCx1nSElrBZXSigROb8dvEnPBqtv'})\n",
        "download.GetContentFile('/content/best/checkpoint_best.pth.index')"
      ],
      "metadata": {
        "id": "2Xzl2CKc4-S9"
      },
      "execution_count": 14,
      "outputs": []
    },
    {
      "cell_type": "markdown",
      "source": [
        "# **The Data Part**"
      ],
      "metadata": {
        "id": "6Df_oQrxMrjO"
      }
    },
    {
      "cell_type": "code",
      "source": [
        "!python data.py \\\n",
        "--path_to_metadata '/content/metadata.csv' \\\n",
        "--path_to_data '/content/cleaned' \\\n",
        "--saving_path '/content/drive/MyDrive/Datasets/PartAI_Task/Splited_Dataset' "
      ],
      "metadata": {
        "colab": {
          "base_uri": "https://localhost:8080/"
        },
        "id": "w4TsU9NYMoye",
        "outputId": "c7039a4b-0633-437f-8344-4ee1fb000cbe"
      },
      "execution_count": 6,
      "outputs": [
        {
          "output_type": "stream",
          "name": "stdout",
          "text": [
            "Extracting features from audio file:\n",
            "100% 480/480 [04:11<00:00,  1.91it/s]\n",
            "Check shapes:\n",
            "Features: 3360, Labels: 3360\n",
            "Let's see the dimensions!\n",
            "x_train's shape:  (2688, 58) y_train's shape:  (2688, 12) x_test's shape:  (672, 58) y_test's shape:  (672, 12)\n"
          ]
        }
      ]
    },
    {
      "cell_type": "markdown",
      "source": [
        "# **Train the Model**"
      ],
      "metadata": {
        "id": "kwoThIoEosx9"
      }
    },
    {
      "cell_type": "markdown",
      "source": [
        "By running the next cell, our model gets trained. We can specify some details like number of epochs and batch size!"
      ],
      "metadata": {
        "id": "oCRZRvQwpFeb"
      }
    },
    {
      "cell_type": "code",
      "source": [
        "!python main.py \\\n",
        "--train \\\n",
        "--path_to_data '/content/splited' \\\n",
        "--exp_dir '/content/exp/' \\\n",
        "--checkpoint_filepath '/content/drive/MyDrive/PartAI_Task/best_checkpoint/best_checkpoint.pth'\\\n",
        "--exp '01' \\\n",
        "--n_epochs 75 \\\n",
        "--batch_size 32"
      ],
      "metadata": {
        "colab": {
          "base_uri": "https://localhost:8080/"
        },
        "id": "1KYcAMgIR1F5",
        "outputId": "6a79c541-f7f2-4ff2-9df7-dd2256d02704"
      },
      "execution_count": 12,
      "outputs": [
        {
          "output_type": "stream",
          "name": "stdout",
          "text": [
            "2023-02-14 20:24:25.735090: I tensorflow/core/platform/cpu_feature_guard.cc:193] This TensorFlow binary is optimized with oneAPI Deep Neural Network Library (oneDNN) to use the following CPU instructions in performance-critical operations:  AVX2 FMA\n",
            "To enable them in other operations, rebuild TensorFlow with the appropriate compiler flags.\n",
            "2023-02-14 20:24:27.133942: W tensorflow/compiler/xla/stream_executor/platform/default/dso_loader.cc:64] Could not load dynamic library 'libnvinfer.so.7'; dlerror: libnvinfer.so.7: cannot open shared object file: No such file or directory; LD_LIBRARY_PATH: /usr/local/nvidia/lib:/usr/local/nvidia/lib64\n",
            "2023-02-14 20:24:27.134089: W tensorflow/compiler/xla/stream_executor/platform/default/dso_loader.cc:64] Could not load dynamic library 'libnvinfer_plugin.so.7'; dlerror: libnvinfer_plugin.so.7: cannot open shared object file: No such file or directory; LD_LIBRARY_PATH: /usr/local/nvidia/lib:/usr/local/nvidia/lib64\n",
            "2023-02-14 20:24:27.134119: W tensorflow/compiler/tf2tensorrt/utils/py_utils.cc:38] TF-TRT Warning: Cannot dlopen some TensorRT libraries. If you would like to use Nvidia GPU with TensorRT, please make sure the missing libraries mentioned above are installed properly.\n",
            "2023-02-14 20:24:29.955517: E tensorflow/compiler/xla/stream_executor/cuda/cuda_driver.cc:267] failed call to cuInit: CUDA_ERROR_NO_DEVICE: no CUDA-capable device is detected\n",
            "Model: \"sequential\"\n",
            "_________________________________________________________________\n",
            " Layer (type)                Output Shape              Param #   \n",
            "=================================================================\n",
            " conv1d (Conv1D)             (None, 58, 256)           1792      \n",
            "                                                                 \n",
            " average_pooling1d (AverageP  (None, 29, 256)          0         \n",
            " ooling1D)                                                       \n",
            "                                                                 \n",
            " conv1d_1 (Conv1D)           (None, 29, 128)           196736    \n",
            "                                                                 \n",
            " average_pooling1d_1 (Averag  (None, 15, 128)          0         \n",
            " ePooling1D)                                                     \n",
            "                                                                 \n",
            " conv1d_2 (Conv1D)           (None, 15, 128)           98432     \n",
            "                                                                 \n",
            " average_pooling1d_2 (Averag  (None, 8, 128)           0         \n",
            " ePooling1D)                                                     \n",
            "                                                                 \n",
            " dropout (Dropout)           (None, 8, 128)            0         \n",
            "                                                                 \n",
            " conv1d_3 (Conv1D)           (None, 8, 64)             49216     \n",
            "                                                                 \n",
            " max_pooling1d (MaxPooling1D  (None, 4, 64)            0         \n",
            " )                                                               \n",
            "                                                                 \n",
            " flatten (Flatten)           (None, 256)               0         \n",
            "                                                                 \n",
            " dense (Dense)               (None, 32)                8224      \n",
            "                                                                 \n",
            " dropout_1 (Dropout)         (None, 32)                0         \n",
            "                                                                 \n",
            " dense_1 (Dense)             (None, 12)                396       \n",
            "                                                                 \n",
            "=================================================================\n",
            "Total params: 354,796\n",
            "Trainable params: 354,796\n",
            "Non-trainable params: 0\n",
            "_________________________________________________________________\n",
            "21/21 [==============================] - 1s 14ms/step - loss: 2.4845 - accuracy: 0.0863\n",
            "None\n",
            "Epoch 1/75\n",
            "84/84 [==============================] - 9s 88ms/step - loss: 2.4821 - accuracy: 0.0952 - val_loss: 2.4671 - val_accuracy: 0.1176 - lr: 0.0010\n",
            "Epoch 2/75\n",
            "84/84 [==============================] - 5s 61ms/step - loss: 2.4530 - accuracy: 0.1112 - val_loss: 2.4254 - val_accuracy: 0.1473 - lr: 0.0010\n",
            "Epoch 3/75\n",
            "84/84 [==============================] - 6s 72ms/step - loss: 2.3834 - accuracy: 0.1414 - val_loss: 2.3121 - val_accuracy: 0.1622 - lr: 0.0010\n",
            "Epoch 4/75\n",
            "84/84 [==============================] - 7s 81ms/step - loss: 2.2970 - accuracy: 0.1589 - val_loss: 2.1997 - val_accuracy: 0.2024 - lr: 0.0010\n",
            "Epoch 5/75\n",
            "84/84 [==============================] - 5s 60ms/step - loss: 2.2110 - accuracy: 0.1815 - val_loss: 2.1266 - val_accuracy: 0.2068 - lr: 0.0010\n",
            "Epoch 6/75\n",
            "84/84 [==============================] - 7s 86ms/step - loss: 2.1065 - accuracy: 0.2176 - val_loss: 2.0534 - val_accuracy: 0.2411 - lr: 0.0010\n",
            "Epoch 7/75\n",
            "84/84 [==============================] - 5s 59ms/step - loss: 2.0559 - accuracy: 0.2336 - val_loss: 2.0667 - val_accuracy: 0.2411 - lr: 0.0010\n",
            "Epoch 8/75\n",
            "84/84 [==============================] - 6s 75ms/step - loss: 1.9449 - accuracy: 0.2664 - val_loss: 1.8963 - val_accuracy: 0.2738 - lr: 0.0010\n",
            "Epoch 9/75\n",
            "84/84 [==============================] - 6s 71ms/step - loss: 1.8319 - accuracy: 0.2995 - val_loss: 1.7591 - val_accuracy: 0.3244 - lr: 0.0010\n",
            "Epoch 10/75\n",
            "84/84 [==============================] - 5s 60ms/step - loss: 1.7409 - accuracy: 0.3441 - val_loss: 1.6919 - val_accuracy: 0.3571 - lr: 0.0010\n",
            "Epoch 11/75\n",
            "84/84 [==============================] - 7s 86ms/step - loss: 1.6590 - accuracy: 0.3746 - val_loss: 1.6585 - val_accuracy: 0.3750 - lr: 0.0010\n",
            "Epoch 12/75\n",
            "84/84 [==============================] - 5s 61ms/step - loss: 1.5735 - accuracy: 0.4022 - val_loss: 1.4901 - val_accuracy: 0.4226 - lr: 0.0010\n",
            "Epoch 13/75\n",
            "84/84 [==============================] - 6s 74ms/step - loss: 1.4946 - accuracy: 0.4330 - val_loss: 1.4781 - val_accuracy: 0.4375 - lr: 0.0010\n",
            "Epoch 14/75\n",
            "84/84 [==============================] - 6s 72ms/step - loss: 1.3661 - accuracy: 0.4792 - val_loss: 1.3287 - val_accuracy: 0.5283 - lr: 0.0010\n",
            "Epoch 15/75\n",
            "84/84 [==============================] - 5s 61ms/step - loss: 1.2715 - accuracy: 0.5134 - val_loss: 1.2570 - val_accuracy: 0.5670 - lr: 0.0010\n",
            "Epoch 16/75\n",
            "84/84 [==============================] - 7s 86ms/step - loss: 1.2119 - accuracy: 0.5394 - val_loss: 1.2775 - val_accuracy: 0.5699 - lr: 0.0010\n",
            "Epoch 17/75\n",
            "84/84 [==============================] - 5s 61ms/step - loss: 1.1330 - accuracy: 0.5644 - val_loss: 1.1182 - val_accuracy: 0.6116 - lr: 0.0010\n",
            "Epoch 18/75\n",
            "84/84 [==============================] - 8s 90ms/step - loss: 1.0834 - accuracy: 0.6008 - val_loss: 1.0716 - val_accuracy: 0.6161 - lr: 0.0010\n",
            "Epoch 19/75\n",
            "84/84 [==============================] - 7s 86ms/step - loss: 0.9765 - accuracy: 0.6306 - val_loss: 0.9771 - val_accuracy: 0.6682 - lr: 0.0010\n",
            "Epoch 20/75\n",
            "84/84 [==============================] - 5s 61ms/step - loss: 0.9319 - accuracy: 0.6481 - val_loss: 0.9232 - val_accuracy: 0.6964 - lr: 0.0010\n",
            "Epoch 21/75\n",
            "84/84 [==============================] - 7s 87ms/step - loss: 0.8880 - accuracy: 0.6696 - val_loss: 0.8747 - val_accuracy: 0.7054 - lr: 0.0010\n",
            "Epoch 22/75\n",
            "84/84 [==============================] - 5s 61ms/step - loss: 0.8339 - accuracy: 0.6793 - val_loss: 0.8051 - val_accuracy: 0.7351 - lr: 0.0010\n",
            "Epoch 23/75\n",
            "84/84 [==============================] - 6s 73ms/step - loss: 0.7655 - accuracy: 0.7232 - val_loss: 0.7856 - val_accuracy: 0.7649 - lr: 0.0010\n",
            "Epoch 24/75\n",
            "84/84 [==============================] - 6s 72ms/step - loss: 0.7080 - accuracy: 0.7407 - val_loss: 0.8299 - val_accuracy: 0.7411 - lr: 0.0010\n",
            "Epoch 25/75\n",
            "84/84 [==============================] - 5s 60ms/step - loss: 0.6677 - accuracy: 0.7463 - val_loss: 0.7244 - val_accuracy: 0.7723 - lr: 0.0010\n",
            "Epoch 26/75\n",
            "84/84 [==============================] - 7s 84ms/step - loss: 0.6422 - accuracy: 0.7686 - val_loss: 0.7759 - val_accuracy: 0.7664 - lr: 0.0010\n",
            "Epoch 27/75\n",
            "84/84 [==============================] - 5s 60ms/step - loss: 0.6184 - accuracy: 0.7794 - val_loss: 0.6878 - val_accuracy: 0.7768 - lr: 0.0010\n",
            "Epoch 28/75\n",
            "84/84 [==============================] - 6s 68ms/step - loss: 0.6134 - accuracy: 0.7705 - val_loss: 0.6435 - val_accuracy: 0.8170 - lr: 0.0010\n",
            "Epoch 29/75\n",
            "84/84 [==============================] - 6s 75ms/step - loss: 0.5793 - accuracy: 0.7835 - val_loss: 0.6999 - val_accuracy: 0.7917 - lr: 0.0010\n",
            "Epoch 30/75\n",
            "84/84 [==============================] - 5s 60ms/step - loss: 0.5739 - accuracy: 0.7853 - val_loss: 0.5641 - val_accuracy: 0.8452 - lr: 0.0010\n",
            "Epoch 31/75\n",
            "84/84 [==============================] - 9s 111ms/step - loss: 0.4994 - accuracy: 0.8158 - val_loss: 0.6233 - val_accuracy: 0.8229 - lr: 0.0010\n",
            "Epoch 32/75\n",
            "84/84 [==============================] - 5s 59ms/step - loss: 0.4779 - accuracy: 0.8251 - val_loss: 0.5783 - val_accuracy: 0.8408 - lr: 0.0010\n",
            "Epoch 33/75\n",
            "84/84 [==============================] - 5s 63ms/step - loss: 0.4886 - accuracy: 0.8211 - val_loss: 0.5484 - val_accuracy: 0.8452 - lr: 0.0010\n",
            "Epoch 34/75\n",
            "84/84 [==============================] - 7s 81ms/step - loss: 0.4175 - accuracy: 0.8467 - val_loss: 0.5400 - val_accuracy: 0.8661 - lr: 0.0010\n",
            "Epoch 35/75\n",
            "84/84 [==============================] - 5s 59ms/step - loss: 0.4093 - accuracy: 0.8501 - val_loss: 0.5222 - val_accuracy: 0.8616 - lr: 0.0010\n",
            "Epoch 36/75\n",
            "84/84 [==============================] - 7s 86ms/step - loss: 0.3876 - accuracy: 0.8635 - val_loss: 0.5062 - val_accuracy: 0.8616 - lr: 0.0010\n",
            "Epoch 37/75\n",
            "84/84 [==============================] - 5s 59ms/step - loss: 0.3996 - accuracy: 0.8482 - val_loss: 0.5501 - val_accuracy: 0.8467 - lr: 0.0010\n",
            "Epoch 38/75\n",
            "84/84 [==============================] - 5s 60ms/step - loss: 0.3399 - accuracy: 0.8828 - val_loss: 0.4766 - val_accuracy: 0.8899 - lr: 0.0010\n",
            "Epoch 39/75\n",
            "84/84 [==============================] - 7s 84ms/step - loss: 0.3306 - accuracy: 0.8876 - val_loss: 0.5020 - val_accuracy: 0.8929 - lr: 0.0010\n",
            "Epoch 40/75\n",
            "84/84 [==============================] - 5s 59ms/step - loss: 0.3554 - accuracy: 0.8824 - val_loss: 0.4450 - val_accuracy: 0.8869 - lr: 0.0010\n",
            "Epoch 41/75\n",
            "84/84 [==============================] - 7s 81ms/step - loss: 0.3445 - accuracy: 0.8798 - val_loss: 0.4760 - val_accuracy: 0.8854 - lr: 0.0010\n",
            "Epoch 42/75\n",
            "84/84 [==============================] - 5s 61ms/step - loss: 0.2983 - accuracy: 0.8951 - val_loss: 0.5217 - val_accuracy: 0.8735 - lr: 0.0010\n",
            "Epoch 43/75\n",
            "84/84 [==============================] - 5s 59ms/step - loss: 0.3040 - accuracy: 0.8999 - val_loss: 0.4747 - val_accuracy: 0.9033 - lr: 0.0010\n",
            "Epoch 44/75\n",
            "84/84 [==============================] - 7s 84ms/step - loss: 0.2864 - accuracy: 0.9036 - val_loss: 0.4707 - val_accuracy: 0.8765 - lr: 0.0010\n",
            "Epoch 45/75\n",
            "84/84 [==============================] - 5s 59ms/step - loss: 0.2789 - accuracy: 0.8966 - val_loss: 0.6789 - val_accuracy: 0.8452 - lr: 0.0010\n",
            "Epoch 46/75\n",
            "84/84 [==============================] - 6s 73ms/step - loss: 0.2894 - accuracy: 0.9055 - val_loss: 0.4408 - val_accuracy: 0.8914 - lr: 0.0010\n",
            "Epoch 47/75\n",
            "84/84 [==============================] - 6s 68ms/step - loss: 0.2425 - accuracy: 0.9215 - val_loss: 0.4750 - val_accuracy: 0.8988 - lr: 0.0010\n",
            "Epoch 48/75\n",
            "84/84 [==============================] - 5s 59ms/step - loss: 0.2585 - accuracy: 0.9100 - val_loss: 0.3902 - val_accuracy: 0.9048 - lr: 0.0010\n",
            "Epoch 49/75\n",
            "84/84 [==============================] - 7s 83ms/step - loss: 0.2493 - accuracy: 0.9137 - val_loss: 0.4907 - val_accuracy: 0.8884 - lr: 0.0010\n",
            "Epoch 50/75\n",
            "84/84 [==============================] - 5s 59ms/step - loss: 0.2322 - accuracy: 0.9211 - val_loss: 0.5225 - val_accuracy: 0.8854 - lr: 0.0010\n",
            "Epoch 51/75\n",
            "84/84 [==============================] - 6s 67ms/step - loss: 0.2847 - accuracy: 0.9040 - val_loss: 0.5201 - val_accuracy: 0.8899 - lr: 0.0010\n",
            "Epoch 52/75\n",
            "84/84 [==============================] - 6s 76ms/step - loss: 0.2168 - accuracy: 0.9241 - val_loss: 0.3860 - val_accuracy: 0.9077 - lr: 0.0010\n",
            "Epoch 53/75\n",
            "84/84 [==============================] - 5s 58ms/step - loss: 0.2051 - accuracy: 0.9263 - val_loss: 0.4246 - val_accuracy: 0.8973 - lr: 0.0010\n",
            "Epoch 54/75\n",
            "84/84 [==============================] - 7s 85ms/step - loss: 0.2461 - accuracy: 0.9133 - val_loss: 0.4424 - val_accuracy: 0.9048 - lr: 0.0010\n",
            "Epoch 55/75\n",
            "84/84 [==============================] - 5s 60ms/step - loss: 0.1903 - accuracy: 0.9356 - val_loss: 0.4257 - val_accuracy: 0.9092 - lr: 0.0010\n",
            "Epoch 56/75\n",
            "84/84 [==============================] - 5s 63ms/step - loss: 0.1932 - accuracy: 0.9345 - val_loss: 0.4364 - val_accuracy: 0.9048 - lr: 0.0010\n",
            "Epoch 57/75\n",
            "84/84 [==============================] - 7s 80ms/step - loss: 0.2166 - accuracy: 0.9219 - val_loss: 0.4193 - val_accuracy: 0.9003 - lr: 0.0010\n",
            "Epoch 58/75\n",
            "84/84 [==============================] - 5s 59ms/step - loss: 0.1996 - accuracy: 0.9304 - val_loss: 0.4267 - val_accuracy: 0.9107 - lr: 0.0010\n",
            "Epoch 59/75\n",
            "84/84 [==============================] - 7s 85ms/step - loss: 0.1583 - accuracy: 0.9483 - val_loss: 0.4357 - val_accuracy: 0.9092 - lr: 0.0010\n",
            "Epoch 60/75\n",
            "84/84 [==============================] - 5s 58ms/step - loss: 0.1680 - accuracy: 0.9431 - val_loss: 0.3768 - val_accuracy: 0.9033 - lr: 0.0010\n",
            "Epoch 61/75\n",
            "84/84 [==============================] - 5s 59ms/step - loss: 0.1952 - accuracy: 0.9330 - val_loss: 0.3706 - val_accuracy: 0.8973 - lr: 0.0010\n",
            "Epoch 62/75\n",
            "84/84 [==============================] - 7s 84ms/step - loss: 0.1940 - accuracy: 0.9342 - val_loss: 0.4827 - val_accuracy: 0.8988 - lr: 0.0010\n",
            "Epoch 63/75\n",
            "84/84 [==============================] - 5s 59ms/step - loss: 0.1828 - accuracy: 0.9364 - val_loss: 0.4516 - val_accuracy: 0.9077 - lr: 0.0010\n",
            "Epoch 64/75\n",
            "84/84 [==============================] - 7s 80ms/step - loss: 0.1377 - accuracy: 0.9557 - val_loss: 0.4214 - val_accuracy: 0.9048 - lr: 4.0000e-04\n",
            "Epoch 65/75\n",
            "84/84 [==============================] - 5s 62ms/step - loss: 0.1015 - accuracy: 0.9639 - val_loss: 0.4190 - val_accuracy: 0.9107 - lr: 4.0000e-04\n",
            "Epoch 66/75\n",
            "84/84 [==============================] - 5s 59ms/step - loss: 0.1103 - accuracy: 0.9661 - val_loss: 0.4110 - val_accuracy: 0.9048 - lr: 4.0000e-04\n",
            "Epoch 67/75\n",
            "84/84 [==============================] - 7s 84ms/step - loss: 0.1013 - accuracy: 0.9676 - val_loss: 0.4059 - val_accuracy: 0.9092 - lr: 4.0000e-04\n",
            "Epoch 68/75\n",
            "84/84 [==============================] - 5s 60ms/step - loss: 0.0963 - accuracy: 0.9654 - val_loss: 0.3978 - val_accuracy: 0.9152 - lr: 4.0000e-04\n",
            "Epoch 69/75\n",
            "84/84 [==============================] - 6s 72ms/step - loss: 0.0927 - accuracy: 0.9658 - val_loss: 0.4109 - val_accuracy: 0.9092 - lr: 4.0000e-04\n",
            "Epoch 70/75\n",
            "84/84 [==============================] - 6s 70ms/step - loss: 0.0987 - accuracy: 0.9658 - val_loss: 0.3774 - val_accuracy: 0.9092 - lr: 4.0000e-04\n",
            "Epoch 71/75\n",
            "84/84 [==============================] - 5s 58ms/step - loss: 0.0907 - accuracy: 0.9706 - val_loss: 0.4034 - val_accuracy: 0.9122 - lr: 4.0000e-04\n",
            "Epoch 72/75\n",
            "84/84 [==============================] - 7s 85ms/step - loss: 0.0809 - accuracy: 0.9725 - val_loss: 0.4361 - val_accuracy: 0.9167 - lr: 4.0000e-04\n",
            "Epoch 73/75\n",
            "84/84 [==============================] - 5s 58ms/step - loss: 0.0855 - accuracy: 0.9702 - val_loss: 0.4242 - val_accuracy: 0.9152 - lr: 4.0000e-04\n",
            "Epoch 74/75\n",
            "84/84 [==============================] - 5s 64ms/step - loss: 0.0803 - accuracy: 0.9740 - val_loss: 0.4043 - val_accuracy: 0.9077 - lr: 4.0000e-04\n",
            "Epoch 75/75\n",
            "84/84 [==============================] - 7s 78ms/step - loss: 0.0855 - accuracy: 0.9680 - val_loss: 0.4563 - val_accuracy: 0.9122 - lr: 4.0000e-04\n",
            "Figure(3000x1200)\n",
            "Final Training accuracy:  0.999627947807312\n",
            "Test accuracy:  0.9122023582458496\n",
            "21/21 [==============================] - 1s 23ms/step\n",
            "Figure(1200x1000)\n"
          ]
        }
      ]
    },
    {
      "cell_type": "markdown",
      "source": [
        "# **Test the model**\n"
      ],
      "metadata": {
        "id": "UO1Abt1eoxsw"
      }
    },
    {
      "cell_type": "markdown",
      "source": [
        "Using the cell below, we are able to load previsouly trained weights and test the model some samples!"
      ],
      "metadata": {
        "id": "vzVQzI-jpC4v"
      }
    },
    {
      "cell_type": "code",
      "source": [
        "!python test.py \\\n",
        "--path_to_metadata '/content/metadata.csv' \\\n",
        "--path_to_data '/content/splited' \\\n",
        "--exp_dir '/content/exp/' \\\n",
        "--checkpoint_filepath '/content/best/checkpoint_best.pth'\\\n",
        "--exp '01' "
      ],
      "metadata": {
        "colab": {
          "base_uri": "https://localhost:8080/"
        },
        "id": "w4syn29ZaIaT",
        "outputId": "a2bdd393-2445-4924-9d81-0d835787adc1"
      },
      "execution_count": 15,
      "outputs": [
        {
          "output_type": "stream",
          "name": "stdout",
          "text": [
            "2023-02-14 20:36:24.491656: I tensorflow/core/platform/cpu_feature_guard.cc:193] This TensorFlow binary is optimized with oneAPI Deep Neural Network Library (oneDNN) to use the following CPU instructions in performance-critical operations:  AVX2 FMA\n",
            "To enable them in other operations, rebuild TensorFlow with the appropriate compiler flags.\n",
            "2023-02-14 20:36:25.700990: W tensorflow/compiler/xla/stream_executor/platform/default/dso_loader.cc:64] Could not load dynamic library 'libnvinfer.so.7'; dlerror: libnvinfer.so.7: cannot open shared object file: No such file or directory; LD_LIBRARY_PATH: /usr/local/nvidia/lib:/usr/local/nvidia/lib64\n",
            "2023-02-14 20:36:25.701246: W tensorflow/compiler/xla/stream_executor/platform/default/dso_loader.cc:64] Could not load dynamic library 'libnvinfer_plugin.so.7'; dlerror: libnvinfer_plugin.so.7: cannot open shared object file: No such file or directory; LD_LIBRARY_PATH: /usr/local/nvidia/lib:/usr/local/nvidia/lib64\n",
            "2023-02-14 20:36:25.701271: W tensorflow/compiler/tf2tensorrt/utils/py_utils.cc:38] TF-TRT Warning: Cannot dlopen some TensorRT libraries. If you would like to use Nvidia GPU with TensorRT, please make sure the missing libraries mentioned above are installed properly.\n",
            "2023-02-14 20:36:27.956478: E tensorflow/compiler/xla/stream_executor/cuda/cuda_driver.cc:267] failed call to cuInit: CUDA_ERROR_NO_DEVICE: no CUDA-capable device is detected\n",
            "Model: \"sequential\"\n",
            "_________________________________________________________________\n",
            " Layer (type)                Output Shape              Param #   \n",
            "=================================================================\n",
            " conv1d (Conv1D)             (None, 58, 256)           1792      \n",
            "                                                                 \n",
            " average_pooling1d (AverageP  (None, 29, 256)          0         \n",
            " ooling1D)                                                       \n",
            "                                                                 \n",
            " conv1d_1 (Conv1D)           (None, 29, 128)           196736    \n",
            "                                                                 \n",
            " average_pooling1d_1 (Averag  (None, 15, 128)          0         \n",
            " ePooling1D)                                                     \n",
            "                                                                 \n",
            " conv1d_2 (Conv1D)           (None, 15, 128)           98432     \n",
            "                                                                 \n",
            " average_pooling1d_2 (Averag  (None, 8, 128)           0         \n",
            " ePooling1D)                                                     \n",
            "                                                                 \n",
            " dropout (Dropout)           (None, 8, 128)            0         \n",
            "                                                                 \n",
            " conv1d_3 (Conv1D)           (None, 8, 64)             49216     \n",
            "                                                                 \n",
            " max_pooling1d (MaxPooling1D  (None, 4, 64)            0         \n",
            " )                                                               \n",
            "                                                                 \n",
            " flatten (Flatten)           (None, 256)               0         \n",
            "                                                                 \n",
            " dense (Dense)               (None, 32)                8224      \n",
            "                                                                 \n",
            " dropout_1 (Dropout)         (None, 32)                0         \n",
            "                                                                 \n",
            " dense_1 (Dense)             (None, 12)                396       \n",
            "                                                                 \n",
            "=================================================================\n",
            "Total params: 354,796\n",
            "Trainable params: 354,796\n",
            "Non-trainable params: 0\n",
            "_________________________________________________________________\n",
            "21/21 [==============================] - 1s 13ms/step - loss: 2.4859 - accuracy: 0.0848\n",
            "None\n",
            "Test accuracy:  0.9166666865348816\n",
            "21/21 [==============================] - 0s 14ms/step\n",
            "Figure(1200x1000)\n",
            "1/1 [==============================] - 0s 189ms/step\n",
            "The real label is:  2  and the predicted label is:  2\n",
            "1/1 [==============================] - 0s 38ms/step\n",
            "The real label is:  0  and the predicted label is:  0\n",
            "1/1 [==============================] - 0s 34ms/step\n",
            "The real label is:  7  and the predicted label is:  7\n",
            "1/1 [==============================] - 0s 34ms/step\n",
            "The real label is:  1  and the predicted label is:  1\n",
            "1/1 [==============================] - 0s 37ms/step\n",
            "The real label is:  5  and the predicted label is:  5\n"
          ]
        }
      ]
    }
  ]
}